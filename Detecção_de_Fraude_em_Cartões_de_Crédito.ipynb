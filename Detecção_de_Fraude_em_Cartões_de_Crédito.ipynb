{
  "nbformat": 4,
  "nbformat_minor": 0,
  "metadata": {
    "colab": {
      "name": "Detecção_de_Fraude_em_Cartões_de_Crédito.ipynb",
      "provenance": [],
      "collapsed_sections": [],
      "include_colab_link": true
    },
    "kernelspec": {
      "display_name": "Python 3",
      "language": "python",
      "name": "python3"
    },
    "language_info": {
      "codemirror_mode": {
        "name": "ipython",
        "version": 3
      },
      "file_extension": ".py",
      "mimetype": "text/x-python",
      "name": "python",
      "nbconvert_exporter": "python",
      "pygments_lexer": "ipython3",
      "version": "3.7.4"
    }
  },
  "cells": [
    {
      "cell_type": "markdown",
      "metadata": {
        "id": "view-in-github",
        "colab_type": "text"
      },
      "source": [
        "<a href=\"https://colab.research.google.com/github/elybatista/Data_Science/blob/master/Detec%C3%A7%C3%A3o_de_Fraude_em_Cart%C3%B5es_de_Cr%C3%A9dito.ipynb\" target=\"_parent\"><img src=\"https://colab.research.google.com/assets/colab-badge.svg\" alt=\"Open In Colab\"/></a>"
      ]
    },
    {
      "cell_type": "markdown",
      "metadata": {
        "id": "IR56trFcPcC1"
      },
      "source": [
        "# Detecção de Fraudes em Cartões de Crédito\n",
        "\n",
        "Nesta análise, irei abordar o problema das fraudes em cartões de crédito, uma das principais preocupações das instituições financeiras como operadoras de cartão de crédito, bancos e *fintechs*. \n",
        "\n",
        "<p align=center>\n",
        "<img src=\"https://veja.abril.com.br/wp-content/uploads/2016/05/alx_70705789_thumbnail_original.jpeg?quality=70&strip=info&resize=680,453\" width=\"50%\"></p>\n",
        "\n",
        "O cartão de crédito detém a maior parte das transações financeiras de dinheiro. Com o crescimento cada vez mais das compras online, o uso do cartão de crédito é muito mais frequente. Mas as fraudes envolvendo cartões de crédito são de grande relevância uma vez que a sua não-detecção acaretará em prejuízos consideráveis, tanto para o consumidor quanto para a instituição financeira.\n",
        "\n",
        "Um outro fator a ser considerado é a quantidade de falsos positivos, ou seja, aquelas vezes em que a pessoa tenta fazer uma compra e tem seu cartão bloqueado preventivamente - o que gera estresse e constrangimento.\n",
        "\n",
        "As empresas tem investido em tecnologia a cada ano para evitar e reduzir esse tipo de ocorrência e o uso de modelos de machine learning tem se mostrado uma ferramenta poderosa para detecção defraudes.\n",
        "\n",
        "Dispondo de grandes volumes de dados como base histórica, um algoritmo de machine learning já representa uma economia de milhões de Reais. E esse é o desafio, aprimorar cada vez mais o uso de algoritmos visando inibir ou evitar transações fraudulentas.\n",
        "\n"
      ]
    },
    {
      "cell_type": "markdown",
      "metadata": {
        "id": "0HVmpIxQWT4Y"
      },
      "source": [
        "## Importando os Dados\n",
        "\n",
        "Os dados usados neste projeto foram disponibilizados por algumas empresas européias de cartão de crédito. O *dataset* representa as operações financeiras que aconteceram no período de dois dias, onde foram classificadas 492 fraudes em meio a quase 290 mil transações.\n",
        "\n",
        "Como você pode notar, este é um conjunto de dados extremamente desbalanceado, onde as fraudes representam apenas 0,17% do total.\n",
        "\n",
        "Outro detalhe interessante é que as *features* são todas numéricas, e foram descaracterizadas (por problemas ligados à privacidade e segurança). Assim, os nomes das colunas são representados por $[V1, V2, V3 \\dots, V28]$ \n",
        "\n",
        "[Na página original dos dados](https://www.kaggle.com/mlg-ulb/creditcardfraud), também é informado que as variáveis passaram por uma transformação conhecida como Análise de Componentes Principais (*Principal Component Analysis* - PCA).\n",
        "\n",
        "A PCA permite a redução da dimensionalidade enquanto mantém o maior número possível de informações. O objetivo é encontrar um meio de condensar a informação contida em várias variáveis originais em um conjunto menor de variáveis estatísticas (componentes) com uma perda mínima de informação.\n",
        "\n",
        "Esses componentes são em número menor ou igual às variáveis originais, vai depender do quanto se reduz e quanto mais se reduz, mais se perde de informação. No caso deste projeto, os componentes achados pela transformação da PCA são as próprias colunas $[V1, V2, V3 \\dots, V28]$."
      ]
    },
    {
      "cell_type": "code",
      "metadata": {
        "colab": {
          "base_uri": "https://localhost:8080/"
        },
        "id": "AsJQyy8k8cTH",
        "outputId": "18f4e14d-8211-46ea-aa7b-141f60fbe55c"
      },
      "source": [
        "# Instalação de biblioteca\n",
        "!pip install scikit-plot"
      ],
      "execution_count": 2,
      "outputs": [
        {
          "output_type": "stream",
          "text": [
            "Collecting scikit-plot\n",
            "  Downloading https://files.pythonhosted.org/packages/7c/47/32520e259340c140a4ad27c1b97050dd3254fdc517b1d59974d47037510e/scikit_plot-0.3.7-py3-none-any.whl\n",
            "Requirement already satisfied: scipy>=0.9 in /usr/local/lib/python3.7/dist-packages (from scikit-plot) (1.4.1)\n",
            "Requirement already satisfied: matplotlib>=1.4.0 in /usr/local/lib/python3.7/dist-packages (from scikit-plot) (3.2.2)\n",
            "Requirement already satisfied: joblib>=0.10 in /usr/local/lib/python3.7/dist-packages (from scikit-plot) (1.0.1)\n",
            "Requirement already satisfied: scikit-learn>=0.18 in /usr/local/lib/python3.7/dist-packages (from scikit-plot) (0.22.2.post1)\n",
            "Requirement already satisfied: numpy>=1.13.3 in /usr/local/lib/python3.7/dist-packages (from scipy>=0.9->scikit-plot) (1.19.5)\n",
            "Requirement already satisfied: cycler>=0.10 in /usr/local/lib/python3.7/dist-packages (from matplotlib>=1.4.0->scikit-plot) (0.10.0)\n",
            "Requirement already satisfied: pyparsing!=2.0.4,!=2.1.2,!=2.1.6,>=2.0.1 in /usr/local/lib/python3.7/dist-packages (from matplotlib>=1.4.0->scikit-plot) (2.4.7)\n",
            "Requirement already satisfied: kiwisolver>=1.0.1 in /usr/local/lib/python3.7/dist-packages (from matplotlib>=1.4.0->scikit-plot) (1.3.1)\n",
            "Requirement already satisfied: python-dateutil>=2.1 in /usr/local/lib/python3.7/dist-packages (from matplotlib>=1.4.0->scikit-plot) (2.8.1)\n",
            "Requirement already satisfied: six in /usr/local/lib/python3.7/dist-packages (from cycler>=0.10->matplotlib>=1.4.0->scikit-plot) (1.15.0)\n",
            "Installing collected packages: scikit-plot\n",
            "Successfully installed scikit-plot-0.3.7\n"
          ],
          "name": "stdout"
        }
      ]
    },
    {
      "cell_type": "code",
      "metadata": {
        "id": "oQ4bNy7udtEE",
        "colab": {
          "base_uri": "https://localhost:8080/"
        },
        "outputId": "d82c8df7-2c58-4a60-c4e5-c29b6664c21b"
      },
      "source": [
        "# importando os pacotes necessários\n",
        "import pandas as pd\n",
        "import numpy as np\n",
        "import matplotlib.pyplot as plt\n",
        "import seaborn as sns\n",
        "import scikitplot as skplt\n",
        "\n",
        "from sklearn.model_selection import train_test_split\n",
        "from sklearn.preprocessing import StandardScaler\n",
        "from sklearn.linear_model import LogisticRegression\n",
        "from sklearn.metrics import classification_report\n",
        "from sklearn.metrics import roc_auc_score, roc_curve, accuracy_score\n",
        "\n",
        "from imblearn.under_sampling import RandomUnderSampler\n",
        "\n",
        "# Ocultando os avisos de Warnings\n",
        "import warnings\n",
        "warnings.filterwarnings('ignore')\n",
        "\n",
        "# Configurando o estilo dos gráficos com o Seaborn\n",
        "sns.set_style('dark')"
      ],
      "execution_count": 3,
      "outputs": [
        {
          "output_type": "stream",
          "text": [
            "/usr/local/lib/python3.7/dist-packages/sklearn/externals/six.py:31: FutureWarning: The module is deprecated in version 0.21 and will be removed in version 0.23 since we've dropped support for Python 2.7. Please rely on the official version of six (https://pypi.org/project/six/).\n",
            "  \"(https://pypi.org/project/six/).\", FutureWarning)\n",
            "/usr/local/lib/python3.7/dist-packages/sklearn/utils/deprecation.py:144: FutureWarning: The sklearn.neighbors.base module is  deprecated in version 0.22 and will be removed in version 0.24. The corresponding classes / functions should instead be imported from sklearn.neighbors. Anything that cannot be imported from sklearn.neighbors is now part of the private API.\n",
            "  warnings.warn(message, FutureWarning)\n"
          ],
          "name": "stderr"
        }
      ]
    },
    {
      "cell_type": "markdown",
      "metadata": {
        "id": "oICfiQXd_gjc"
      },
      "source": [
        "### Importando dados"
      ]
    },
    {
      "cell_type": "code",
      "metadata": {
        "id": "4NxUOfDOj2j8"
      },
      "source": [
        "# importar os dados para um dataframe\n",
        "df = pd.read_csv('https://www.dropbox.com/s/b44o3t3ehmnx2b7/creditcard.csv?dl=1')"
      ],
      "execution_count": 4,
      "outputs": []
    },
    {
      "cell_type": "markdown",
      "metadata": {
        "id": "7nF_Dhd81Cvq"
      },
      "source": [
        "Com os dados importados para dentro de uma estrutura *Dataframe* - e não havendo a necessidade de mais nenhum ajuste ou configuração nesta etapa, pode-se iniciar uma análise exploratória dos dados a fim de preparar um modelo de *Machine Learning*."
      ]
    },
    {
      "cell_type": "markdown",
      "metadata": {
        "id": "8UtXyZ6stlSM"
      },
      "source": [
        "## Análise Exploratória\n",
        "\n",
        "Vamos abordar agora alguns tópicos, como:\n",
        "\n",
        "* Ver as 5 primeiras entradas\n",
        "* Ver o resumo estatístico do dataframe\n",
        "* Verificar se há valores ausentes\n",
        "* Plotar uma matriz de confusão\n",
        "* Plotar um `boxplot` para a variável `Amount`.\n",
        "* Plotar uma matriz de correlação\n"
      ]
    },
    {
      "cell_type": "code",
      "metadata": {
        "scrolled": true,
        "id": "UL53pHT69MpG",
        "colab": {
          "base_uri": "https://localhost:8080/",
          "height": 224
        },
        "outputId": "e8b3126c-0bf8-475b-d2f4-faec561f00b5"
      },
      "source": [
        "# Vamos ver as primeiras entradas\n",
        "df.head()"
      ],
      "execution_count": 5,
      "outputs": [
        {
          "output_type": "execute_result",
          "data": {
            "text/html": [
              "<div>\n",
              "<style scoped>\n",
              "    .dataframe tbody tr th:only-of-type {\n",
              "        vertical-align: middle;\n",
              "    }\n",
              "\n",
              "    .dataframe tbody tr th {\n",
              "        vertical-align: top;\n",
              "    }\n",
              "\n",
              "    .dataframe thead th {\n",
              "        text-align: right;\n",
              "    }\n",
              "</style>\n",
              "<table border=\"1\" class=\"dataframe\">\n",
              "  <thead>\n",
              "    <tr style=\"text-align: right;\">\n",
              "      <th></th>\n",
              "      <th>Time</th>\n",
              "      <th>V1</th>\n",
              "      <th>V2</th>\n",
              "      <th>V3</th>\n",
              "      <th>V4</th>\n",
              "      <th>V5</th>\n",
              "      <th>V6</th>\n",
              "      <th>V7</th>\n",
              "      <th>V8</th>\n",
              "      <th>V9</th>\n",
              "      <th>V10</th>\n",
              "      <th>V11</th>\n",
              "      <th>V12</th>\n",
              "      <th>V13</th>\n",
              "      <th>V14</th>\n",
              "      <th>V15</th>\n",
              "      <th>V16</th>\n",
              "      <th>V17</th>\n",
              "      <th>V18</th>\n",
              "      <th>V19</th>\n",
              "      <th>V20</th>\n",
              "      <th>V21</th>\n",
              "      <th>V22</th>\n",
              "      <th>V23</th>\n",
              "      <th>V24</th>\n",
              "      <th>V25</th>\n",
              "      <th>V26</th>\n",
              "      <th>V27</th>\n",
              "      <th>V28</th>\n",
              "      <th>Amount</th>\n",
              "      <th>Class</th>\n",
              "    </tr>\n",
              "  </thead>\n",
              "  <tbody>\n",
              "    <tr>\n",
              "      <th>0</th>\n",
              "      <td>0.0</td>\n",
              "      <td>-1.359807</td>\n",
              "      <td>-0.072781</td>\n",
              "      <td>2.536347</td>\n",
              "      <td>1.378155</td>\n",
              "      <td>-0.338321</td>\n",
              "      <td>0.462388</td>\n",
              "      <td>0.239599</td>\n",
              "      <td>0.098698</td>\n",
              "      <td>0.363787</td>\n",
              "      <td>0.090794</td>\n",
              "      <td>-0.551600</td>\n",
              "      <td>-0.617801</td>\n",
              "      <td>-0.991390</td>\n",
              "      <td>-0.311169</td>\n",
              "      <td>1.468177</td>\n",
              "      <td>-0.470401</td>\n",
              "      <td>0.207971</td>\n",
              "      <td>0.025791</td>\n",
              "      <td>0.403993</td>\n",
              "      <td>0.251412</td>\n",
              "      <td>-0.018307</td>\n",
              "      <td>0.277838</td>\n",
              "      <td>-0.110474</td>\n",
              "      <td>0.066928</td>\n",
              "      <td>0.128539</td>\n",
              "      <td>-0.189115</td>\n",
              "      <td>0.133558</td>\n",
              "      <td>-0.021053</td>\n",
              "      <td>149.62</td>\n",
              "      <td>0</td>\n",
              "    </tr>\n",
              "    <tr>\n",
              "      <th>1</th>\n",
              "      <td>0.0</td>\n",
              "      <td>1.191857</td>\n",
              "      <td>0.266151</td>\n",
              "      <td>0.166480</td>\n",
              "      <td>0.448154</td>\n",
              "      <td>0.060018</td>\n",
              "      <td>-0.082361</td>\n",
              "      <td>-0.078803</td>\n",
              "      <td>0.085102</td>\n",
              "      <td>-0.255425</td>\n",
              "      <td>-0.166974</td>\n",
              "      <td>1.612727</td>\n",
              "      <td>1.065235</td>\n",
              "      <td>0.489095</td>\n",
              "      <td>-0.143772</td>\n",
              "      <td>0.635558</td>\n",
              "      <td>0.463917</td>\n",
              "      <td>-0.114805</td>\n",
              "      <td>-0.183361</td>\n",
              "      <td>-0.145783</td>\n",
              "      <td>-0.069083</td>\n",
              "      <td>-0.225775</td>\n",
              "      <td>-0.638672</td>\n",
              "      <td>0.101288</td>\n",
              "      <td>-0.339846</td>\n",
              "      <td>0.167170</td>\n",
              "      <td>0.125895</td>\n",
              "      <td>-0.008983</td>\n",
              "      <td>0.014724</td>\n",
              "      <td>2.69</td>\n",
              "      <td>0</td>\n",
              "    </tr>\n",
              "    <tr>\n",
              "      <th>2</th>\n",
              "      <td>1.0</td>\n",
              "      <td>-1.358354</td>\n",
              "      <td>-1.340163</td>\n",
              "      <td>1.773209</td>\n",
              "      <td>0.379780</td>\n",
              "      <td>-0.503198</td>\n",
              "      <td>1.800499</td>\n",
              "      <td>0.791461</td>\n",
              "      <td>0.247676</td>\n",
              "      <td>-1.514654</td>\n",
              "      <td>0.207643</td>\n",
              "      <td>0.624501</td>\n",
              "      <td>0.066084</td>\n",
              "      <td>0.717293</td>\n",
              "      <td>-0.165946</td>\n",
              "      <td>2.345865</td>\n",
              "      <td>-2.890083</td>\n",
              "      <td>1.109969</td>\n",
              "      <td>-0.121359</td>\n",
              "      <td>-2.261857</td>\n",
              "      <td>0.524980</td>\n",
              "      <td>0.247998</td>\n",
              "      <td>0.771679</td>\n",
              "      <td>0.909412</td>\n",
              "      <td>-0.689281</td>\n",
              "      <td>-0.327642</td>\n",
              "      <td>-0.139097</td>\n",
              "      <td>-0.055353</td>\n",
              "      <td>-0.059752</td>\n",
              "      <td>378.66</td>\n",
              "      <td>0</td>\n",
              "    </tr>\n",
              "    <tr>\n",
              "      <th>3</th>\n",
              "      <td>1.0</td>\n",
              "      <td>-0.966272</td>\n",
              "      <td>-0.185226</td>\n",
              "      <td>1.792993</td>\n",
              "      <td>-0.863291</td>\n",
              "      <td>-0.010309</td>\n",
              "      <td>1.247203</td>\n",
              "      <td>0.237609</td>\n",
              "      <td>0.377436</td>\n",
              "      <td>-1.387024</td>\n",
              "      <td>-0.054952</td>\n",
              "      <td>-0.226487</td>\n",
              "      <td>0.178228</td>\n",
              "      <td>0.507757</td>\n",
              "      <td>-0.287924</td>\n",
              "      <td>-0.631418</td>\n",
              "      <td>-1.059647</td>\n",
              "      <td>-0.684093</td>\n",
              "      <td>1.965775</td>\n",
              "      <td>-1.232622</td>\n",
              "      <td>-0.208038</td>\n",
              "      <td>-0.108300</td>\n",
              "      <td>0.005274</td>\n",
              "      <td>-0.190321</td>\n",
              "      <td>-1.175575</td>\n",
              "      <td>0.647376</td>\n",
              "      <td>-0.221929</td>\n",
              "      <td>0.062723</td>\n",
              "      <td>0.061458</td>\n",
              "      <td>123.50</td>\n",
              "      <td>0</td>\n",
              "    </tr>\n",
              "    <tr>\n",
              "      <th>4</th>\n",
              "      <td>2.0</td>\n",
              "      <td>-1.158233</td>\n",
              "      <td>0.877737</td>\n",
              "      <td>1.548718</td>\n",
              "      <td>0.403034</td>\n",
              "      <td>-0.407193</td>\n",
              "      <td>0.095921</td>\n",
              "      <td>0.592941</td>\n",
              "      <td>-0.270533</td>\n",
              "      <td>0.817739</td>\n",
              "      <td>0.753074</td>\n",
              "      <td>-0.822843</td>\n",
              "      <td>0.538196</td>\n",
              "      <td>1.345852</td>\n",
              "      <td>-1.119670</td>\n",
              "      <td>0.175121</td>\n",
              "      <td>-0.451449</td>\n",
              "      <td>-0.237033</td>\n",
              "      <td>-0.038195</td>\n",
              "      <td>0.803487</td>\n",
              "      <td>0.408542</td>\n",
              "      <td>-0.009431</td>\n",
              "      <td>0.798278</td>\n",
              "      <td>-0.137458</td>\n",
              "      <td>0.141267</td>\n",
              "      <td>-0.206010</td>\n",
              "      <td>0.502292</td>\n",
              "      <td>0.219422</td>\n",
              "      <td>0.215153</td>\n",
              "      <td>69.99</td>\n",
              "      <td>0</td>\n",
              "    </tr>\n",
              "  </tbody>\n",
              "</table>\n",
              "</div>"
            ],
            "text/plain": [
              "   Time        V1        V2        V3  ...       V27       V28  Amount  Class\n",
              "0   0.0 -1.359807 -0.072781  2.536347  ...  0.133558 -0.021053  149.62      0\n",
              "1   0.0  1.191857  0.266151  0.166480  ... -0.008983  0.014724    2.69      0\n",
              "2   1.0 -1.358354 -1.340163  1.773209  ... -0.055353 -0.059752  378.66      0\n",
              "3   1.0 -0.966272 -0.185226  1.792993  ...  0.062723  0.061458  123.50      0\n",
              "4   2.0 -1.158233  0.877737  1.548718  ...  0.219422  0.215153   69.99      0\n",
              "\n",
              "[5 rows x 31 columns]"
            ]
          },
          "metadata": {
            "tags": []
          },
          "execution_count": 5
        }
      ]
    },
    {
      "cell_type": "markdown",
      "metadata": {
        "id": "HJE5isPr9MpV"
      },
      "source": [
        "Abaixo verificamos o resumo estatístico por meio do método describe()\n",
        "e podemos ver que as principais variáveis transformadas pelo PCA não apresentam\n",
        "nenhuma discrepância aparentemente."
      ]
    },
    {
      "cell_type": "code",
      "metadata": {
        "id": "Ux9aJZmc9MpV",
        "colab": {
          "base_uri": "https://localhost:8080/",
          "height": 317
        },
        "outputId": "35ad7d2e-a033-4406-d1cb-8dd9a77a6d8b"
      },
      "source": [
        "# Ver resumo estatístico\n",
        "df.describe()"
      ],
      "execution_count": 6,
      "outputs": [
        {
          "output_type": "execute_result",
          "data": {
            "text/html": [
              "<div>\n",
              "<style scoped>\n",
              "    .dataframe tbody tr th:only-of-type {\n",
              "        vertical-align: middle;\n",
              "    }\n",
              "\n",
              "    .dataframe tbody tr th {\n",
              "        vertical-align: top;\n",
              "    }\n",
              "\n",
              "    .dataframe thead th {\n",
              "        text-align: right;\n",
              "    }\n",
              "</style>\n",
              "<table border=\"1\" class=\"dataframe\">\n",
              "  <thead>\n",
              "    <tr style=\"text-align: right;\">\n",
              "      <th></th>\n",
              "      <th>Time</th>\n",
              "      <th>V1</th>\n",
              "      <th>V2</th>\n",
              "      <th>V3</th>\n",
              "      <th>V4</th>\n",
              "      <th>V5</th>\n",
              "      <th>V6</th>\n",
              "      <th>V7</th>\n",
              "      <th>V8</th>\n",
              "      <th>V9</th>\n",
              "      <th>V10</th>\n",
              "      <th>V11</th>\n",
              "      <th>V12</th>\n",
              "      <th>V13</th>\n",
              "      <th>V14</th>\n",
              "      <th>V15</th>\n",
              "      <th>V16</th>\n",
              "      <th>V17</th>\n",
              "      <th>V18</th>\n",
              "      <th>V19</th>\n",
              "      <th>V20</th>\n",
              "      <th>V21</th>\n",
              "      <th>V22</th>\n",
              "      <th>V23</th>\n",
              "      <th>V24</th>\n",
              "      <th>V25</th>\n",
              "      <th>V26</th>\n",
              "      <th>V27</th>\n",
              "      <th>V28</th>\n",
              "      <th>Amount</th>\n",
              "      <th>Class</th>\n",
              "    </tr>\n",
              "  </thead>\n",
              "  <tbody>\n",
              "    <tr>\n",
              "      <th>count</th>\n",
              "      <td>284807.000000</td>\n",
              "      <td>2.848070e+05</td>\n",
              "      <td>2.848070e+05</td>\n",
              "      <td>2.848070e+05</td>\n",
              "      <td>2.848070e+05</td>\n",
              "      <td>2.848070e+05</td>\n",
              "      <td>2.848070e+05</td>\n",
              "      <td>2.848070e+05</td>\n",
              "      <td>2.848070e+05</td>\n",
              "      <td>2.848070e+05</td>\n",
              "      <td>2.848070e+05</td>\n",
              "      <td>2.848070e+05</td>\n",
              "      <td>2.848070e+05</td>\n",
              "      <td>2.848070e+05</td>\n",
              "      <td>2.848070e+05</td>\n",
              "      <td>2.848070e+05</td>\n",
              "      <td>2.848070e+05</td>\n",
              "      <td>2.848070e+05</td>\n",
              "      <td>2.848070e+05</td>\n",
              "      <td>2.848070e+05</td>\n",
              "      <td>2.848070e+05</td>\n",
              "      <td>2.848070e+05</td>\n",
              "      <td>2.848070e+05</td>\n",
              "      <td>2.848070e+05</td>\n",
              "      <td>2.848070e+05</td>\n",
              "      <td>2.848070e+05</td>\n",
              "      <td>2.848070e+05</td>\n",
              "      <td>2.848070e+05</td>\n",
              "      <td>2.848070e+05</td>\n",
              "      <td>284807.000000</td>\n",
              "      <td>284807.000000</td>\n",
              "    </tr>\n",
              "    <tr>\n",
              "      <th>mean</th>\n",
              "      <td>94813.859575</td>\n",
              "      <td>3.919560e-15</td>\n",
              "      <td>5.688174e-16</td>\n",
              "      <td>-8.769071e-15</td>\n",
              "      <td>2.782312e-15</td>\n",
              "      <td>-1.552563e-15</td>\n",
              "      <td>2.010663e-15</td>\n",
              "      <td>-1.694249e-15</td>\n",
              "      <td>-1.927028e-16</td>\n",
              "      <td>-3.137024e-15</td>\n",
              "      <td>1.768627e-15</td>\n",
              "      <td>9.170318e-16</td>\n",
              "      <td>-1.810658e-15</td>\n",
              "      <td>1.693438e-15</td>\n",
              "      <td>1.479045e-15</td>\n",
              "      <td>3.482336e-15</td>\n",
              "      <td>1.392007e-15</td>\n",
              "      <td>-7.528491e-16</td>\n",
              "      <td>4.328772e-16</td>\n",
              "      <td>9.049732e-16</td>\n",
              "      <td>5.085503e-16</td>\n",
              "      <td>1.537294e-16</td>\n",
              "      <td>7.959909e-16</td>\n",
              "      <td>5.367590e-16</td>\n",
              "      <td>4.458112e-15</td>\n",
              "      <td>1.453003e-15</td>\n",
              "      <td>1.699104e-15</td>\n",
              "      <td>-3.660161e-16</td>\n",
              "      <td>-1.206049e-16</td>\n",
              "      <td>88.349619</td>\n",
              "      <td>0.001727</td>\n",
              "    </tr>\n",
              "    <tr>\n",
              "      <th>std</th>\n",
              "      <td>47488.145955</td>\n",
              "      <td>1.958696e+00</td>\n",
              "      <td>1.651309e+00</td>\n",
              "      <td>1.516255e+00</td>\n",
              "      <td>1.415869e+00</td>\n",
              "      <td>1.380247e+00</td>\n",
              "      <td>1.332271e+00</td>\n",
              "      <td>1.237094e+00</td>\n",
              "      <td>1.194353e+00</td>\n",
              "      <td>1.098632e+00</td>\n",
              "      <td>1.088850e+00</td>\n",
              "      <td>1.020713e+00</td>\n",
              "      <td>9.992014e-01</td>\n",
              "      <td>9.952742e-01</td>\n",
              "      <td>9.585956e-01</td>\n",
              "      <td>9.153160e-01</td>\n",
              "      <td>8.762529e-01</td>\n",
              "      <td>8.493371e-01</td>\n",
              "      <td>8.381762e-01</td>\n",
              "      <td>8.140405e-01</td>\n",
              "      <td>7.709250e-01</td>\n",
              "      <td>7.345240e-01</td>\n",
              "      <td>7.257016e-01</td>\n",
              "      <td>6.244603e-01</td>\n",
              "      <td>6.056471e-01</td>\n",
              "      <td>5.212781e-01</td>\n",
              "      <td>4.822270e-01</td>\n",
              "      <td>4.036325e-01</td>\n",
              "      <td>3.300833e-01</td>\n",
              "      <td>250.120109</td>\n",
              "      <td>0.041527</td>\n",
              "    </tr>\n",
              "    <tr>\n",
              "      <th>min</th>\n",
              "      <td>0.000000</td>\n",
              "      <td>-5.640751e+01</td>\n",
              "      <td>-7.271573e+01</td>\n",
              "      <td>-4.832559e+01</td>\n",
              "      <td>-5.683171e+00</td>\n",
              "      <td>-1.137433e+02</td>\n",
              "      <td>-2.616051e+01</td>\n",
              "      <td>-4.355724e+01</td>\n",
              "      <td>-7.321672e+01</td>\n",
              "      <td>-1.343407e+01</td>\n",
              "      <td>-2.458826e+01</td>\n",
              "      <td>-4.797473e+00</td>\n",
              "      <td>-1.868371e+01</td>\n",
              "      <td>-5.791881e+00</td>\n",
              "      <td>-1.921433e+01</td>\n",
              "      <td>-4.498945e+00</td>\n",
              "      <td>-1.412985e+01</td>\n",
              "      <td>-2.516280e+01</td>\n",
              "      <td>-9.498746e+00</td>\n",
              "      <td>-7.213527e+00</td>\n",
              "      <td>-5.449772e+01</td>\n",
              "      <td>-3.483038e+01</td>\n",
              "      <td>-1.093314e+01</td>\n",
              "      <td>-4.480774e+01</td>\n",
              "      <td>-2.836627e+00</td>\n",
              "      <td>-1.029540e+01</td>\n",
              "      <td>-2.604551e+00</td>\n",
              "      <td>-2.256568e+01</td>\n",
              "      <td>-1.543008e+01</td>\n",
              "      <td>0.000000</td>\n",
              "      <td>0.000000</td>\n",
              "    </tr>\n",
              "    <tr>\n",
              "      <th>25%</th>\n",
              "      <td>54201.500000</td>\n",
              "      <td>-9.203734e-01</td>\n",
              "      <td>-5.985499e-01</td>\n",
              "      <td>-8.903648e-01</td>\n",
              "      <td>-8.486401e-01</td>\n",
              "      <td>-6.915971e-01</td>\n",
              "      <td>-7.682956e-01</td>\n",
              "      <td>-5.540759e-01</td>\n",
              "      <td>-2.086297e-01</td>\n",
              "      <td>-6.430976e-01</td>\n",
              "      <td>-5.354257e-01</td>\n",
              "      <td>-7.624942e-01</td>\n",
              "      <td>-4.055715e-01</td>\n",
              "      <td>-6.485393e-01</td>\n",
              "      <td>-4.255740e-01</td>\n",
              "      <td>-5.828843e-01</td>\n",
              "      <td>-4.680368e-01</td>\n",
              "      <td>-4.837483e-01</td>\n",
              "      <td>-4.988498e-01</td>\n",
              "      <td>-4.562989e-01</td>\n",
              "      <td>-2.117214e-01</td>\n",
              "      <td>-2.283949e-01</td>\n",
              "      <td>-5.423504e-01</td>\n",
              "      <td>-1.618463e-01</td>\n",
              "      <td>-3.545861e-01</td>\n",
              "      <td>-3.171451e-01</td>\n",
              "      <td>-3.269839e-01</td>\n",
              "      <td>-7.083953e-02</td>\n",
              "      <td>-5.295979e-02</td>\n",
              "      <td>5.600000</td>\n",
              "      <td>0.000000</td>\n",
              "    </tr>\n",
              "    <tr>\n",
              "      <th>50%</th>\n",
              "      <td>84692.000000</td>\n",
              "      <td>1.810880e-02</td>\n",
              "      <td>6.548556e-02</td>\n",
              "      <td>1.798463e-01</td>\n",
              "      <td>-1.984653e-02</td>\n",
              "      <td>-5.433583e-02</td>\n",
              "      <td>-2.741871e-01</td>\n",
              "      <td>4.010308e-02</td>\n",
              "      <td>2.235804e-02</td>\n",
              "      <td>-5.142873e-02</td>\n",
              "      <td>-9.291738e-02</td>\n",
              "      <td>-3.275735e-02</td>\n",
              "      <td>1.400326e-01</td>\n",
              "      <td>-1.356806e-02</td>\n",
              "      <td>5.060132e-02</td>\n",
              "      <td>4.807155e-02</td>\n",
              "      <td>6.641332e-02</td>\n",
              "      <td>-6.567575e-02</td>\n",
              "      <td>-3.636312e-03</td>\n",
              "      <td>3.734823e-03</td>\n",
              "      <td>-6.248109e-02</td>\n",
              "      <td>-2.945017e-02</td>\n",
              "      <td>6.781943e-03</td>\n",
              "      <td>-1.119293e-02</td>\n",
              "      <td>4.097606e-02</td>\n",
              "      <td>1.659350e-02</td>\n",
              "      <td>-5.213911e-02</td>\n",
              "      <td>1.342146e-03</td>\n",
              "      <td>1.124383e-02</td>\n",
              "      <td>22.000000</td>\n",
              "      <td>0.000000</td>\n",
              "    </tr>\n",
              "    <tr>\n",
              "      <th>75%</th>\n",
              "      <td>139320.500000</td>\n",
              "      <td>1.315642e+00</td>\n",
              "      <td>8.037239e-01</td>\n",
              "      <td>1.027196e+00</td>\n",
              "      <td>7.433413e-01</td>\n",
              "      <td>6.119264e-01</td>\n",
              "      <td>3.985649e-01</td>\n",
              "      <td>5.704361e-01</td>\n",
              "      <td>3.273459e-01</td>\n",
              "      <td>5.971390e-01</td>\n",
              "      <td>4.539234e-01</td>\n",
              "      <td>7.395934e-01</td>\n",
              "      <td>6.182380e-01</td>\n",
              "      <td>6.625050e-01</td>\n",
              "      <td>4.931498e-01</td>\n",
              "      <td>6.488208e-01</td>\n",
              "      <td>5.232963e-01</td>\n",
              "      <td>3.996750e-01</td>\n",
              "      <td>5.008067e-01</td>\n",
              "      <td>4.589494e-01</td>\n",
              "      <td>1.330408e-01</td>\n",
              "      <td>1.863772e-01</td>\n",
              "      <td>5.285536e-01</td>\n",
              "      <td>1.476421e-01</td>\n",
              "      <td>4.395266e-01</td>\n",
              "      <td>3.507156e-01</td>\n",
              "      <td>2.409522e-01</td>\n",
              "      <td>9.104512e-02</td>\n",
              "      <td>7.827995e-02</td>\n",
              "      <td>77.165000</td>\n",
              "      <td>0.000000</td>\n",
              "    </tr>\n",
              "    <tr>\n",
              "      <th>max</th>\n",
              "      <td>172792.000000</td>\n",
              "      <td>2.454930e+00</td>\n",
              "      <td>2.205773e+01</td>\n",
              "      <td>9.382558e+00</td>\n",
              "      <td>1.687534e+01</td>\n",
              "      <td>3.480167e+01</td>\n",
              "      <td>7.330163e+01</td>\n",
              "      <td>1.205895e+02</td>\n",
              "      <td>2.000721e+01</td>\n",
              "      <td>1.559499e+01</td>\n",
              "      <td>2.374514e+01</td>\n",
              "      <td>1.201891e+01</td>\n",
              "      <td>7.848392e+00</td>\n",
              "      <td>7.126883e+00</td>\n",
              "      <td>1.052677e+01</td>\n",
              "      <td>8.877742e+00</td>\n",
              "      <td>1.731511e+01</td>\n",
              "      <td>9.253526e+00</td>\n",
              "      <td>5.041069e+00</td>\n",
              "      <td>5.591971e+00</td>\n",
              "      <td>3.942090e+01</td>\n",
              "      <td>2.720284e+01</td>\n",
              "      <td>1.050309e+01</td>\n",
              "      <td>2.252841e+01</td>\n",
              "      <td>4.584549e+00</td>\n",
              "      <td>7.519589e+00</td>\n",
              "      <td>3.517346e+00</td>\n",
              "      <td>3.161220e+01</td>\n",
              "      <td>3.384781e+01</td>\n",
              "      <td>25691.160000</td>\n",
              "      <td>1.000000</td>\n",
              "    </tr>\n",
              "  </tbody>\n",
              "</table>\n",
              "</div>"
            ],
            "text/plain": [
              "                Time            V1  ...         Amount          Class\n",
              "count  284807.000000  2.848070e+05  ...  284807.000000  284807.000000\n",
              "mean    94813.859575  3.919560e-15  ...      88.349619       0.001727\n",
              "std     47488.145955  1.958696e+00  ...     250.120109       0.041527\n",
              "min         0.000000 -5.640751e+01  ...       0.000000       0.000000\n",
              "25%     54201.500000 -9.203734e-01  ...       5.600000       0.000000\n",
              "50%     84692.000000  1.810880e-02  ...      22.000000       0.000000\n",
              "75%    139320.500000  1.315642e+00  ...      77.165000       0.000000\n",
              "max    172792.000000  2.454930e+00  ...   25691.160000       1.000000\n",
              "\n",
              "[8 rows x 31 columns]"
            ]
          },
          "metadata": {
            "tags": []
          },
          "execution_count": 6
        }
      ]
    },
    {
      "cell_type": "code",
      "metadata": {
        "colab": {
          "base_uri": "https://localhost:8080/"
        },
        "id": "UzLwmx0-BPaa",
        "outputId": "22b942df-62b5-408f-f08f-0c88295d5ba4"
      },
      "source": [
        "# Resumo estatístico da variável 'Amount'\n",
        "df['Amount'].describe()"
      ],
      "execution_count": 10,
      "outputs": [
        {
          "output_type": "execute_result",
          "data": {
            "text/plain": [
              "count    284807.000000\n",
              "mean         88.349619\n",
              "std         250.120109\n",
              "min           0.000000\n",
              "25%           5.600000\n",
              "50%          22.000000\n",
              "75%          77.165000\n",
              "max       25691.160000\n",
              "Name: Amount, dtype: float64"
            ]
          },
          "metadata": {
            "tags": []
          },
          "execution_count": 10
        }
      ]
    },
    {
      "cell_type": "markdown",
      "metadata": {
        "id": "Pj8TrsUy9MpV"
      },
      "source": [
        "Podemos ver que na variável Amount (quantia), o valor médio das transações é de 88.34, \n",
        "a mediana igual a 22.00 e o desvio padrão de 250.12, atingindo o valor máximo de 25691.16 e 75%  das transações financeiras é composta em sua maioria de quantias menores, chegando no máximo a 77.16."
      ]
    },
    {
      "cell_type": "markdown",
      "metadata": {
        "id": "FpJcuxpf9MpV"
      },
      "source": [
        "O dataset não apresentou nenhum valor ausente ou que precisasse de uma etapa de limpeza.\n",
        "No comando abaixo, o maior valor da coluna para valores nulos é zero, o que confirma que não\n",
        "há valores ausentes."
      ]
    },
    {
      "cell_type": "code",
      "metadata": {
        "id": "KDvAHICg9MpV"
      },
      "source": [
        "# Ver se há valores ausentes\n",
        "df.isnull().sum().max()"
      ],
      "execution_count": null,
      "outputs": []
    },
    {
      "cell_type": "markdown",
      "metadata": {
        "id": "PrtzntEa9MpV"
      },
      "source": [
        "Como informado no início, as entradas relativas à transaçõs fraudulentas correspondem a 0,17% do total.\n",
        "\n",
        "O gráfico de barras mostrado abaixo mostra como essa discrepância se torna nítida. Na prática, isso interfere no desempenho do modelo e será necessário fazer um balanceamento dos dados antes de alimentar o modelo final de classificação."
      ]
    },
    {
      "cell_type": "code",
      "metadata": {
        "id": "o6ty_0dO9MpV"
      },
      "source": [
        "# Ver o balanceamento das classes\n",
        "print('Transações: (0-Normal / 1-Fraudulenta)')\n",
        "print(df.Class.value_counts())\n",
        "print(\"\\nAs fraudes representam {:.4f}% do dataset.\".format((df[df.Class == 1].shape[0] / df.shape[0]) * 100))\n",
        "\n",
        "# Plotar gráfico de barras para as classes\n",
        "fig, ax = plt.subplots()\n",
        "sns.countplot('Class', data=df, ax=ax)\n",
        "ax.set_title('Distribuição das Classes')\n",
        "plt.plot();"
      ],
      "execution_count": null,
      "outputs": []
    },
    {
      "cell_type": "markdown",
      "metadata": {
        "id": "K7BGE2O38Nks"
      },
      "source": [
        "Sem fazer ajustes, vamos treinar o modelo e fazer a previsão em cima do conjunto de teste desbalanceado. Vamos plotar também a matriz de confusão e o relatório de classificação para ver o modelo aplicado em uma base não balanceada."
      ]
    },
    {
      "cell_type": "code",
      "metadata": {
        "id": "-5fUmTrkz5QQ"
      },
      "source": [
        "# Separa as variáveis entre X e y\n",
        "X = df.drop('Class', axis=1)\n",
        "y = df['Class']\n",
        "\n",
        "# Dividir o dataset entre treino e teste\n",
        "X_train, X_test, y_train, y_test = train_test_split(X, y)\n",
        "\n",
        "# Instancia e treina um modelo de Regressão Logística\n",
        "model = LogisticRegression()\n",
        "model.fit(X_train, y_train)\n",
        "\n",
        "# Fazer as previsões em cima dos dados de teste\n",
        "y_pred = model.predict(X_test)\n",
        "y_proba = model.predict_proba(X_test)\n",
        "\n",
        "# Plotar\n",
        "skplt.metrics.plot_confusion_matrix(y_test, y_pred, normalize=True)\n",
        "\n",
        "# Imprimir relatório de classificação\n",
        "print('Relatório de Classificação:\\n', classification_report(y_test, y_pred, digits=4))\n",
        "\n",
        "# Imprimir a acurácia do modelo\n",
        "print('Acurácia: {:.4f}.'.format(accuracy_score(y_test, y_pred)))\n",
        "\n",
        "# Imprimir a área sob a curva - AUC\n",
        "print('AUC: {:.4f}.'.format(roc_auc_score(y_test, y_pred)))"
      ],
      "execution_count": null,
      "outputs": []
    },
    {
      "cell_type": "markdown",
      "metadata": {
        "id": "bXgS4DcI880t"
      },
      "source": [
        "Vemos nas informações acima que conseguimos uma acurácia de 99% no nosso modelo, isso é um bom resultado, mas o problema é que no caso de dados desbalanceados, a acurácia não representa uma métrica válida. \n",
        "\n",
        "Podemos identificar na matriz de confuzão que a identificação de operações fraudulentas é baixa, mais o pior são as operações fraudulentas que não são identificadas como tal. Isso é um problema para uma instituição financeira.\n",
        "\n",
        "Por ter uma quantidade muito maior de transações não fraudulentas, o modelo é muito bom em detectar esse tipo de operação, mas nosso objetivo é analisar as operações fraudulentas e para não ocorrer o overfitting, que é o caso acima, temos que buscar um equilíbrio nos dados.\n",
        "\n",
        "Acima podemos ver também o valor da medida de Area Under Curve (AUC), que avalia a classificação de modelos de classificação binários. O valor do AUC varia de 0,0 até 1,0. Um modelo em que as previsões estão 100% erradas tem uma AUC de 0, equanto um modelo cuja as previsões estão 100% corretas tem uma AUC de 1. Nessa análise com os dados desbalanceados, obtemos uma AUC de 0.80. \n",
        "\n",
        "Então, vamos continuar nossa análise e fazer o balanceamento."
      ]
    },
    {
      "cell_type": "markdown",
      "metadata": {
        "id": "xGaC111u9Mpl"
      },
      "source": [
        "Continuando com a análise exploratória, plotamos os boxplots para ver se há alguma diferença no padrão das transações em relação a variável `Amount`.\n",
        "\n",
        "Podemos perceber que as distribuições são diferente para as duas classes, o que provavelmente irá contribuir para o treinamento do modelo de machine learning."
      ]
    },
    {
      "cell_type": "code",
      "metadata": {
        "id": "_ul3zUDi9Mpl"
      },
      "source": [
        "# Plotando boxplot das variáveis Class e Amount\n",
        "fig, ax = plt.subplots(figsize=(6,10), sharex=True)\n",
        "\n",
        "sns.boxplot(df.Class, df.Amount, showmeans=True, ax=ax)\n",
        "plt.ylim((-20, 400))\n",
        "plt.xticks([0,1], ['Normal', 'Fraude'])\n",
        "\n",
        "plt.tight_layout()"
      ],
      "execution_count": null,
      "outputs": []
    },
    {
      "cell_type": "markdown",
      "metadata": {
        "id": "wTuhoPj59Mpl"
      },
      "source": [
        "Olhando as informações estatísticas para os dados de Transação fraudulenta (df.Class == 1), podemos ver que a sua média está em 122.21 e a mediana em 9.25."
      ]
    },
    {
      "cell_type": "code",
      "metadata": {
        "id": "qraweSIk9Mpl"
      },
      "source": [
        "df[df.Class==1]['Amount'].describe()"
      ],
      "execution_count": null,
      "outputs": []
    },
    {
      "cell_type": "markdown",
      "metadata": {
        "id": "tSPhXRZCEv7u"
      },
      "source": [
        "Já as transações normais, temos a média em 88.29 e a mediana em 22.00."
      ]
    },
    {
      "cell_type": "code",
      "metadata": {
        "id": "MmnZ60JwEbm4"
      },
      "source": [
        "df[df.Class==0]['Amount'].describe()"
      ],
      "execution_count": null,
      "outputs": []
    },
    {
      "cell_type": "markdown",
      "metadata": {
        "id": "wEF0cFN09Mpl"
      },
      "source": [
        "Podemos observar resumidamente nessa etapa exploratória que:\n",
        "\n",
        "* O dataset está muito desbalanceado, já que as transações fraudulentas são apenas 0,17% das entradas totais.\n",
        "* Não existem valores ausentes ou nulos no dataset.\n",
        "* Uma vez que a PCA é sensível à escala das variáveis, assume-se a premissa que as variáveis originais foram padronizadas.\n",
        "* As colunas Time e Amount não estão normalizadas."
      ]
    },
    {
      "cell_type": "markdown",
      "metadata": {
        "id": "ULe7z0jZt0EH"
      },
      "source": [
        "## Preparação dos Dados\n",
        "\n",
        "Para alimentar o modelo de Regressão Logística, precisamos preparar os dados, então iremos:\n",
        "\n",
        "* Padronizar os dados que ainda não haviam sido pré-processados, como `Time` e `Amount`, que estão em outra ordem de grandeza.\n",
        "* Dividir o conjunto de dados entre treino e teste.\n",
        "* Balancear o conjunto de dados para não ocorrer o overfitting da classe 1."
      ]
    },
    {
      "cell_type": "markdown",
      "metadata": {
        "id": "DU2ttAzt6oyC"
      },
      "source": [
        "Padronizando `Time` e `Amount`\n",
        "\n",
        "A padronização será feita por meio da classe StandardScaler. Isso significa que para cada feature, a média seria 0, e o desvio padrão seria 1. Desta forma as features ficam mais manejáveis para o nosso modelo."
      ]
    },
    {
      "cell_type": "code",
      "metadata": {
        "id": "IqfjG_SUSTi-"
      },
      "source": [
        "df_clean = df.copy()\n",
        "\n",
        "std_scaler = StandardScaler()\n",
        "df_clean['std_amount'] = std_scaler.fit_transform(df_clean['Amount'].values.reshape(-1, 1))\n",
        "df_clean['std_time'] = std_scaler.fit_transform(df_clean['Time'].values.reshape(-1, 1))\n",
        "\n",
        "df_clean.drop(['Time','Amount'], axis=1, inplace=True)\n",
        "\n",
        "# Vendo as primeiras entradas\n",
        "df_clean.head()"
      ],
      "execution_count": null,
      "outputs": []
    },
    {
      "cell_type": "markdown",
      "metadata": {
        "id": "OVUKDOrUkacz"
      },
      "source": [
        "#### Divisão dos dados em treino e teste\n",
        "\n",
        "Antes de fazer o balanceamento dos dados, devemos separar os dados existentes entre treino e teste.\n",
        "Para garantir que os dados de treino e teste tenham a mesma quantidade proporcional de classes, usamos o parâmetro stratify=y"
      ]
    },
    {
      "cell_type": "code",
      "metadata": {
        "id": "KFpFKA0PkqcK"
      },
      "source": [
        "# Separa os dados de classe do resto do dataset entre as variáveis X e y.\n",
        "X = df_clean.drop('Class', axis=1)\n",
        "y = df['Class']\n",
        "\n",
        "# Divide o dataset em treino e teste\n",
        "X_train, X_test, y_train, y_test = train_test_split(X, y, stratify=y, shuffle=True)"
      ],
      "execution_count": null,
      "outputs": []
    },
    {
      "cell_type": "markdown",
      "metadata": {
        "id": "PGC5vCMmkzK7"
      },
      "source": [
        "#### Balanceamento dos dados\n",
        "\n",
        "Com a biblioteca `imblearn` podemos aplicar facilmente técnicas de balanceamento de dados e para preservar a classe minoritária, utilizamos a opção under_sampling."
      ]
    },
    {
      "cell_type": "code",
      "metadata": {
        "id": "dWAs1ultk_9G"
      },
      "source": [
        "# Usando a técnica de under-sampling\n",
        "rus = RandomUnderSampler()\n",
        "X_rus, y_rus = rus.fit_sample(X_train, y_train)\n",
        "\n",
        "# Ver o balanceamento das classes\n",
        "print('Balanceamento das classe 1 e 0')\n",
        "print(pd.Series(y_rus).value_counts())\n",
        "\n",
        "# Plota a nova distribuição das classes\n",
        "sns.countplot(y_rus)"
      ],
      "execution_count": null,
      "outputs": []
    },
    {
      "cell_type": "markdown",
      "metadata": {
        "id": "9TtPvZcilNMN"
      },
      "source": [
        "Agora podemos ver que não existe mais aquela discrepância entre as classes como mostrado no início da análise.\n",
        "\n",
        "Com os dados balanceados, vamos ver a comparação da matriz de correlação para identificar quais variáveis estão mais fortemente relacionadas entre si."
      ]
    },
    {
      "cell_type": "code",
      "metadata": {
        "id": "CnPevqX-lYWE"
      },
      "source": [
        "# Plotar a matriz de correlação\n",
        "corr1 = X_train.corr()\n",
        "corr2 = pd.DataFrame(X_rus).corr()\n",
        "\n",
        "fig, ax = plt.subplots(nrows=1, ncols=2, figsize = (18,8))\n",
        "fig.suptitle('Matriz de Correlação')\n",
        "\n",
        "sns.heatmap(corr1, xticklabels=corr1.columns, yticklabels=corr1.columns, linewidths=.1, cmap='coolwarm', ax=ax[0])\n",
        "ax[0].set_title('Desbalanceado')\n",
        "\n",
        "sns.heatmap(corr2, xticklabels=corr1.columns, yticklabels=corr1.columns, linewidths=.1, cmap='coolwarm', ax=ax[1])\n",
        "ax[1].set_title('Balanceado')\n",
        "\n",
        "plt.show()"
      ],
      "execution_count": null,
      "outputs": []
    },
    {
      "cell_type": "markdown",
      "metadata": {
        "id": "dJ2UzLehrlyc"
      },
      "source": [
        "Podemos ver nas imagens da matriz de correlação acima, a diferença entre os dados balanceados e desbalanceados. Observe que com o balanceamento temos muito mais informações."
      ]
    },
    {
      "cell_type": "markdown",
      "metadata": {
        "id": "wJNH5qcjRxfX"
      },
      "source": [
        "## Modelo de Machine Learning\n",
        "\n",
        "Após a preparação dos dados e a análise exploratória, vamos construir um modelo para **classificação** usando **Regressão Logística**.\n",
        "\n",
        "A Regressão Logística é um recurso que nos permite estimar a probabilidade associada à ocorrência de determinado evento em face de um conjunto de variáveis explanatórias.\n",
        "\n",
        "Então, depois de instanciar o modelo, vamos treiná-lo com os dados em `X_rus` e `y_rus`. Depois vamos realizar as previsões nos dados de teste."
      ]
    },
    {
      "cell_type": "code",
      "metadata": {
        "id": "lDySx8XUSMw_"
      },
      "source": [
        "# Instanciando e treinando um modelo de Regressão Logística\n",
        "np.random.seed(2)\n",
        "model = LogisticRegression()\n",
        "model.fit(X_rus, y_rus)\n",
        "\n",
        "# Fazendo previsões em cima dos dados de teste\n",
        "y_pred = model.predict(X_test)\n",
        "y_proba = model.predict_proba(X_test)"
      ],
      "execution_count": null,
      "outputs": []
    },
    {
      "cell_type": "markdown",
      "metadata": {
        "id": "3e4ENOTYSUXi"
      },
      "source": [
        "## Avaliar o desempenho do modelo\n",
        "\n",
        "Agora que temos o modelo treinado e as previsões feitas, vamos partir para a avaliação do desempenho.\n",
        "\n",
        "Vimos que a acurácia não é uma métrica adequada para problemas com dados desbalanceados. Mas agora vamos avaliar os resultados com os dados balanceados."
      ]
    },
    {
      "cell_type": "code",
      "metadata": {
        "id": "H1jEi7gkSe2r"
      },
      "source": [
        "# Plotar a matiz de confusão\n",
        "skplt.metrics.plot_confusion_matrix(y_test, y_pred, normalize=True)\n",
        "\n",
        "# Imprimir relatório de classificação\n",
        "print('Relatório de Classificação:\\n', classification_report(y_test, y_pred, digits=4))\n",
        "\n",
        "# Imprimir a acurácia do modelo\n",
        "print('Acurácia: {:.4f}.'.format(accuracy_score(y_test, y_pred)))\n",
        "\n",
        "# Imprimir a área sob a curva - AUC\n",
        "print('AUC: {:.4f}.'.format(roc_auc_score(y_test, y_pred)))"
      ],
      "execution_count": null,
      "outputs": []
    },
    {
      "cell_type": "markdown",
      "metadata": {
        "id": "yhUlAQFH-eqA"
      },
      "source": [
        "Agora podemos ver na matriz de confusão que o desempenho do modelo aumentou para identificar operações fraudulentas."
      ]
    },
    {
      "cell_type": "markdown",
      "metadata": {
        "id": "0Bj7zRZMSfO7"
      },
      "source": [
        "## Conclusão\n",
        "\n",
        "Nessa análise podemos retirar alguns insights que nos ajudam em uma melhor tomada de decisão e até melhorar o modelo, são eles:\n",
        "\n",
        "* A transformação dos dados pode atrapalhar, pois os dados sem muitas informações, informando o que cada coluna representa, pode interferir na construção do modelo, pois algumas dessas colunas podem adicionar informações inportantes para criação do modelo.\n",
        "* Dados desbalanceados atrapalham com a eficácia do modelo, fazendo com que ele fique altamente enviesado.\n",
        "* Dados balanceados fazem a acurácia do modelo serem parecidos quanto a prever falsos negativos. Porém a Regressão Logística é superior em prever falsos positivos.\n",
        "\n",
        "Esse tipo de fraude prejudica muito a empresa, por isso, o processo de melhoria do modelo deve ser constante."
      ]
    },
    {
      "cell_type": "code",
      "metadata": {
        "id": "3nXrvi2frWyW"
      },
      "source": [
        ""
      ],
      "execution_count": null,
      "outputs": []
    }
  ]
}